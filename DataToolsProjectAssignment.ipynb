{
 "cells": [
  {
   "cell_type": "code",
   "execution_count": 1,
   "id": "5cfc779e",
   "metadata": {},
   "outputs": [],
   "source": [
    "import pandas as pd\n",
    "import matplotlib as plt\n",
    "import matplotlib.pyplot as plt\n"
   ]
  },
  {
   "cell_type": "code",
   "execution_count": 3,
   "id": "0dc98391",
   "metadata": {},
   "outputs": [
    {
     "data": {
      "text/html": [
       "<div>\n",
       "<style scoped>\n",
       "    .dataframe tbody tr th:only-of-type {\n",
       "        vertical-align: middle;\n",
       "    }\n",
       "\n",
       "    .dataframe tbody tr th {\n",
       "        vertical-align: top;\n",
       "    }\n",
       "\n",
       "    .dataframe thead th {\n",
       "        text-align: right;\n",
       "    }\n",
       "</style>\n",
       "<table border=\"1\" class=\"dataframe\">\n",
       "  <thead>\n",
       "    <tr style=\"text-align: right;\">\n",
       "      <th></th>\n",
       "      <th>Timestamp</th>\n",
       "      <th>Age</th>\n",
       "      <th>Gender</th>\n",
       "      <th>Country</th>\n",
       "      <th>state</th>\n",
       "      <th>self_employed</th>\n",
       "      <th>family_history</th>\n",
       "      <th>treatment</th>\n",
       "      <th>work_interfere</th>\n",
       "      <th>no_employees</th>\n",
       "      <th>...</th>\n",
       "      <th>leave</th>\n",
       "      <th>mental_health_consequence</th>\n",
       "      <th>phys_health_consequence</th>\n",
       "      <th>coworkers</th>\n",
       "      <th>supervisor</th>\n",
       "      <th>mental_health_interview</th>\n",
       "      <th>phys_health_interview</th>\n",
       "      <th>mental_vs_physical</th>\n",
       "      <th>obs_consequence</th>\n",
       "      <th>comments</th>\n",
       "    </tr>\n",
       "  </thead>\n",
       "  <tbody>\n",
       "    <tr>\n",
       "      <th>0</th>\n",
       "      <td>2014-08-27 11:29</td>\n",
       "      <td>37</td>\n",
       "      <td>Female</td>\n",
       "      <td>United States</td>\n",
       "      <td>IL</td>\n",
       "      <td>NaN</td>\n",
       "      <td>No</td>\n",
       "      <td>Yes</td>\n",
       "      <td>Often</td>\n",
       "      <td>25-Jun</td>\n",
       "      <td>...</td>\n",
       "      <td>Somewhat easy</td>\n",
       "      <td>No</td>\n",
       "      <td>No</td>\n",
       "      <td>Some of them</td>\n",
       "      <td>Yes</td>\n",
       "      <td>No</td>\n",
       "      <td>Maybe</td>\n",
       "      <td>Yes</td>\n",
       "      <td>No</td>\n",
       "      <td>NaN</td>\n",
       "    </tr>\n",
       "    <tr>\n",
       "      <th>1</th>\n",
       "      <td>2014-08-27 11:29</td>\n",
       "      <td>44</td>\n",
       "      <td>M</td>\n",
       "      <td>United States</td>\n",
       "      <td>IN</td>\n",
       "      <td>NaN</td>\n",
       "      <td>No</td>\n",
       "      <td>No</td>\n",
       "      <td>Rarely</td>\n",
       "      <td>More than 1000</td>\n",
       "      <td>...</td>\n",
       "      <td>Don't know</td>\n",
       "      <td>Maybe</td>\n",
       "      <td>No</td>\n",
       "      <td>No</td>\n",
       "      <td>No</td>\n",
       "      <td>No</td>\n",
       "      <td>No</td>\n",
       "      <td>Don't know</td>\n",
       "      <td>No</td>\n",
       "      <td>NaN</td>\n",
       "    </tr>\n",
       "    <tr>\n",
       "      <th>2</th>\n",
       "      <td>2014-08-27 11:29</td>\n",
       "      <td>32</td>\n",
       "      <td>Male</td>\n",
       "      <td>Canada</td>\n",
       "      <td>NaN</td>\n",
       "      <td>NaN</td>\n",
       "      <td>No</td>\n",
       "      <td>No</td>\n",
       "      <td>Rarely</td>\n",
       "      <td>25-Jun</td>\n",
       "      <td>...</td>\n",
       "      <td>Somewhat difficult</td>\n",
       "      <td>No</td>\n",
       "      <td>No</td>\n",
       "      <td>Yes</td>\n",
       "      <td>Yes</td>\n",
       "      <td>Yes</td>\n",
       "      <td>Yes</td>\n",
       "      <td>No</td>\n",
       "      <td>No</td>\n",
       "      <td>NaN</td>\n",
       "    </tr>\n",
       "    <tr>\n",
       "      <th>3</th>\n",
       "      <td>2014-08-27 11:29</td>\n",
       "      <td>31</td>\n",
       "      <td>Male</td>\n",
       "      <td>United Kingdom</td>\n",
       "      <td>NaN</td>\n",
       "      <td>NaN</td>\n",
       "      <td>Yes</td>\n",
       "      <td>Yes</td>\n",
       "      <td>Often</td>\n",
       "      <td>26-100</td>\n",
       "      <td>...</td>\n",
       "      <td>Somewhat difficult</td>\n",
       "      <td>Yes</td>\n",
       "      <td>Yes</td>\n",
       "      <td>Some of them</td>\n",
       "      <td>No</td>\n",
       "      <td>Maybe</td>\n",
       "      <td>Maybe</td>\n",
       "      <td>No</td>\n",
       "      <td>Yes</td>\n",
       "      <td>NaN</td>\n",
       "    </tr>\n",
       "    <tr>\n",
       "      <th>4</th>\n",
       "      <td>2014-08-27 11:30</td>\n",
       "      <td>31</td>\n",
       "      <td>Male</td>\n",
       "      <td>United States</td>\n",
       "      <td>TX</td>\n",
       "      <td>NaN</td>\n",
       "      <td>No</td>\n",
       "      <td>No</td>\n",
       "      <td>Never</td>\n",
       "      <td>100-500</td>\n",
       "      <td>...</td>\n",
       "      <td>Don't know</td>\n",
       "      <td>No</td>\n",
       "      <td>No</td>\n",
       "      <td>Some of them</td>\n",
       "      <td>Yes</td>\n",
       "      <td>Yes</td>\n",
       "      <td>Yes</td>\n",
       "      <td>Don't know</td>\n",
       "      <td>No</td>\n",
       "      <td>NaN</td>\n",
       "    </tr>\n",
       "  </tbody>\n",
       "</table>\n",
       "<p>5 rows × 27 columns</p>\n",
       "</div>"
      ],
      "text/plain": [
       "          Timestamp  Age  Gender         Country state self_employed  \\\n",
       "0  2014-08-27 11:29   37  Female   United States    IL           NaN   \n",
       "1  2014-08-27 11:29   44       M   United States    IN           NaN   \n",
       "2  2014-08-27 11:29   32    Male          Canada   NaN           NaN   \n",
       "3  2014-08-27 11:29   31    Male  United Kingdom   NaN           NaN   \n",
       "4  2014-08-27 11:30   31    Male   United States    TX           NaN   \n",
       "\n",
       "  family_history treatment work_interfere    no_employees  ...  \\\n",
       "0             No       Yes          Often          25-Jun  ...   \n",
       "1             No        No         Rarely  More than 1000  ...   \n",
       "2             No        No         Rarely          25-Jun  ...   \n",
       "3            Yes       Yes          Often          26-100  ...   \n",
       "4             No        No          Never         100-500  ...   \n",
       "\n",
       "                leave mental_health_consequence phys_health_consequence  \\\n",
       "0       Somewhat easy                        No                      No   \n",
       "1          Don't know                     Maybe                      No   \n",
       "2  Somewhat difficult                        No                      No   \n",
       "3  Somewhat difficult                       Yes                     Yes   \n",
       "4          Don't know                        No                      No   \n",
       "\n",
       "      coworkers supervisor mental_health_interview phys_health_interview  \\\n",
       "0  Some of them        Yes                      No                 Maybe   \n",
       "1            No         No                      No                    No   \n",
       "2           Yes        Yes                     Yes                   Yes   \n",
       "3  Some of them         No                   Maybe                 Maybe   \n",
       "4  Some of them        Yes                     Yes                   Yes   \n",
       "\n",
       "  mental_vs_physical obs_consequence comments  \n",
       "0                Yes              No      NaN  \n",
       "1         Don't know              No      NaN  \n",
       "2                 No              No      NaN  \n",
       "3                 No             Yes      NaN  \n",
       "4         Don't know              No      NaN  \n",
       "\n",
       "[5 rows x 27 columns]"
      ]
     },
     "execution_count": 3,
     "metadata": {},
     "output_type": "execute_result"
    }
   ],
   "source": [
    "database = pd.read_csv('survey.csv')\n",
    "database.head()"
   ]
  },
  {
   "cell_type": "code",
   "execution_count": 4,
   "id": "8977c74b",
   "metadata": {},
   "outputs": [],
   "source": [
    "# group Gender\n",
    "genders_male = [\"M\", \"Male\", \"male\", \"m\", 'Male-ish', 'maile',\n",
    "                'Cis Male', 'Mal', 'Male (CIS)',\n",
    "                'Make', 'male leaning androgynous', 'Male ', 'Man', 'msle', 'Mail', 'cis male', 'Malr', 'Cis Man']\n",
    "\n",
    "genders_female = ['Female', 'female', 'Cis Female', 'F', 'f',\n",
    "                  'Woman', 'Femake', 'woman', 'fluid', 'Female ',\n",
    "                  'cis-female/femme', 'Female (cis)', 'femail']\n",
    "\n",
    "genders_non_binary = ['Trans-female', 'queer/she/they',\n",
    "                      'non-binary', 'Nah', 'Enby', 'Genderqueer',  'Androgyne',\n",
    "                      'Agender', 'Guy (-ish) ^_^',  'Trans woman', 'Neuter',\n",
    "                      'Female (trans)', 'queer', 'A little about you', 'ostensibly male, unsure what that really means','something kinda male?']\n",
    "\n",
    "database.loc[(database['Gender'].isin(genders_male)), \"Gender\"] = \"Male\"\n",
    "database.loc[(database['Gender'].isin(genders_female)), \"Gender\"] = \"Female\"\n",
    "database.loc[(database['Gender'].isin(genders_non_binary)), \"Gender\"] = \"NonBinary\"\n"
   ]
  },
  {
   "cell_type": "code",
   "execution_count": 5,
   "id": "9ff54a22",
   "metadata": {},
   "outputs": [
    {
     "name": "stderr",
     "output_type": "stream",
     "text": [
      "C:\\Users\\kanis\\AppData\\Local\\Temp\\ipykernel_4116\\4125130073.py:5: SettingWithCopyWarning: \n",
      "A value is trying to be set on a copy of a slice from a DataFrame.\n",
      "Try using .loc[row_indexer,col_indexer] = value instead\n",
      "\n",
      "See the caveats in the documentation: https://pandas.pydata.org/pandas-docs/stable/user_guide/indexing.html#returning-a-view-versus-a-copy\n",
      "  database2.loc[database2['Age'].between(0, 15, 'both'), 'AgeGroup'] = 'Kids'\n"
     ]
    }
   ],
   "source": [
    "# clean age column\n",
    "database1 = database[database['Age'] > 0]\n",
    "database2 = database1[database1['Age'] < 100]\n",
    "\n",
    "database2.loc[database2['Age'].between(0, 15, 'both'), 'AgeGroup'] = 'Kids'\n",
    "database2.loc[database2['Age'].between(15, 20, 'right'), 'AgeGroup'] = 'Teen'\n",
    "database2.loc[database2['Age'].between(20, 45, 'right'), 'AgeGroup'] = 'Adult'\n",
    "database2.loc[database2['Age'].between(45, 100, 'right'), 'AgeGroup'] = 'Senior'\n",
    "\n"
   ]
  },
  {
   "cell_type": "code",
   "execution_count": 6,
   "id": "07ab927e",
   "metadata": {},
   "outputs": [],
   "source": [
    "# group Country\n",
    "Africa = ['South Africa', 'Nigeria']\n",
    "American_Countries = ['United States', 'Canada',\n",
    "                'Mexico', 'Costa Rica', 'Bahamas, The','Brazil', 'Colombia', 'Uruguay']\n",
    "European_Countries = ['United Kingdom', 'Bulgaria', 'France', 'Portugal',\n",
    "          'Netherlands', 'Switzerland', 'Poland', 'Germany', 'Russia',\n",
    "          'Slovenia', 'Austria', 'Ireland', 'Italy', 'Sweden',\n",
    "          'Latvia', 'Romania', 'Belgium', 'Spain', 'Finland',\n",
    "          'Bosnia and Herzegovina', 'Hungary', 'Croatia',\n",
    "          'Norway', 'Denmark', 'Greece', 'Moldova', 'Georgia', 'Czech Republic']\n",
    "Australia = ['Australia', 'New Zealand']\n",
    "Asian_Countries = ['India', 'Israel', 'Singapore',\n",
    "        'Japan', 'Thailand', 'China', 'Philippines']\n",
    "\n",
    "\n",
    "\n",
    "database2.loc[(database2['Country'].isin(American_Countries)), \"Country\"] = \"American Countries\"\n",
    "database2.loc[(database2['Country'].isin(Asian_Countries)), \"Country\"] = \"Asian Countries\"\n",
    "database2.loc[(database2['Country'].isin(European_Countries)), \"Country\"] = \"European Countries\"\n",
    "database2.loc[(database2['Country'].isin(Australia)), \"Country\"] = \"Australia\"\n",
    "database2.loc[(database2['Country'].isin(Africa)), \"Country\"] = \"Africa\""
   ]
  },
  {
   "cell_type": "code",
   "execution_count": 7,
   "id": "36feb587",
   "metadata": {},
   "outputs": [],
   "source": [
    "# Data sorting\n",
    "database2.loc[(database2['benefits'].isin(['No', \"Don't know\"])), \"benefits\"] = \"No\"\n",
    "database2.loc[(database2['benefits'].isin(['Yes'])), \"benefits\"] = \"Yes\"\n",
    "\n",
    "database2.loc[(database2['mental_health_consequence'].isin(['No'])),\n",
    "        \"mental_health_consequence\"] = \"No\"\n",
    "database2.loc[(database2['mental_health_consequence'].isin(['Yes', 'Maybe'])),\n",
    "        \"mental_health_consequence\"] = \"Yes\"\n",
    "\n",
    "database2.loc[(database2['coworkers'].isin(['No'])),\n",
    "        \"coworkers\"] = \"No\"\n",
    "database2.loc[(database2['coworkers'].isin(['Yes', 'Some of them'])),\n",
    "        \"coworkers\"] = \"Yes\"\n",
    "\n",
    "database2.loc[(database2['leave'].isin(['Somewhat easy','Very easy',\"Don't know\"])),\n",
    "        \"leave\"] = \"YES\"\n",
    "database2.loc[(database2['leave'].isin(['Somewhat difficult', 'Very difficult'])),\n",
    "        \"leave\"] = \"NO\"\n",
    "\n",
    "database2.loc[(database2['mental_vs_physical'].isin(['No', \"Don't know\"])), \"mental_vs_physical\"] = \"No\"\n",
    "database2.loc[(database2['mental_vs_physical'].isin(['Yes'])), \"mental_vs_physical\"] = \"Yes\"\n",
    "\n",
    "database2.loc[(database2['care_options'].isin(['No', \"Not sure\"])), \"care_options\"] = \"No\"\n",
    "database2.loc[(database2['care_options'].isin(['Yes'])), \"care_options\"] = \"Yes\"\n"
   ]
  },
  {
   "cell_type": "code",
   "execution_count": 8,
   "id": "cfa46c8b",
   "metadata": {},
   "outputs": [
    {
     "data": {
      "text/plain": [
       "<AxesSubplot:ylabel='Country'>"
      ]
     },
     "execution_count": 8,
     "metadata": {},
     "output_type": "execute_result"
    },
    {
     "data": {
      "image/png": "[encoded data removed]",
      "text/plain": [
       "<Figure size 432x288 with 1 Axes>"
      ]
     },
     "metadata": {
      "needs_background": "light"
     },
     "output_type": "display_data"
    }
   ],
   "source": [
    "# print(database2['phys_health_consequence'].unique())\n",
    "\n",
    "final_data = database2[['AgeGroup','Country','coworkers',\n",
    "                   'leave', 'mental_health_consequence','care_options',\n",
    "                  'remote_work','benefits','treatment','obs_consequence','mental_vs_physical',]]\n",
    "\n",
    "database3=final_data.groupby(['Country','remote_work']).size()\n",
    "database3=database3.unstack()\n",
    "database3.plot(kind=\"barh\")\n",
    "\n",
    "# database4=final_data.groupby(['Region','obs_consequence']).size()\n",
    "# database4=database4.unstack()\n",
    "# database4.plot(kind='bar')"
   ]
  },
  {
   "cell_type": "markdown",
   "id": "d85cbc56",
   "metadata": {},
   "source": [
    "## Analysis on American company"
   ]
  },
  {
   "cell_type": "code",
   "execution_count": 18,
   "id": "9d512f93",
   "metadata": {},
   "outputs": [
    {
     "data": {
      "text/plain": [
       "<AxesSubplot:ylabel='Mental Health consequence'>"
      ]
     },
     "execution_count": 18,
     "metadata": {},
     "output_type": "execute_result"
    },
    {
     "data": {
      "image/png": "[encoded data removed]",
      "text/plain": [
       "<Figure size 432x288 with 1 Axes>"
      ]
     },
     "metadata": {
      "needs_background": "light"
     },
     "output_type": "display_data"
    }
   ],
   "source": [
    "database4 = final_data.query('benefits == \"Yes\" & treatment == \"Yes\" & Country == \"American Countries\" & care_options == \"No\"')\n",
    "\n",
    "database4['mental_health_consequence'].value_counts().plot(kind=\"barh\",xlabel=\"Mental Health consequence\", ylabel=\"count\")\n",
    "\n"
   ]
  },
  {
   "cell_type": "code",
   "execution_count": 10,
   "id": "75178954",
   "metadata": {},
   "outputs": [
    {
     "data": {
      "text/plain": [
       "<AxesSubplot:ylabel='Mental Health consequence'>"
      ]
     },
     "execution_count": 10,
     "metadata": {},
     "output_type": "execute_result"
    },
    {
     "data": {
      "image/png": "[encoded data removed]",
      "text/plain": [
       "<Figure size 432x288 with 1 Axes>"
      ]
     },
     "metadata": {
      "needs_background": "light"
     },
     "output_type": "display_data"
    }
   ],
   "source": [
    "database5=database4.groupby(['mental_health_consequence','AgeGroup']).size()\n",
    "database5=database5.unstack()\n",
    "database5.plot(kind='barh', xlabel=\"Mental Health consequence\", ylabel=\"count\")"
   ]
  },
  {
   "cell_type": "markdown",
   "id": "9d704506",
   "metadata": {},
   "source": [
    "## Analysis on Europe"
   ]
  },
  {
   "cell_type": "code",
   "execution_count": 11,
   "id": "87a0e2ee",
   "metadata": {},
   "outputs": [
    {
     "data": {
      "text/plain": [
       "<AxesSubplot:ylabel='Mental Health consequence'>"
      ]
     },
     "execution_count": 11,
     "metadata": {},
     "output_type": "execute_result"
    },
    {
     "data": {
      "image/png": "[encoded data removed]",
      "text/plain": [
       "<Figure size 432x288 with 1 Axes>"
      ]
     },
     "metadata": {
      "needs_background": "light"
     },
     "output_type": "display_data"
    }
   ],
   "source": [
    "surveydata = final_data.query('benefits == \"Yes\" & treatment == \"Yes\" & Country == \"European Countries\" & care_options == \"No\"')\n",
    "surveydata['mental_health_consequence'].value_counts().plot(kind=\"barh\",xlabel=\"Mental Health consequence\", ylabel=\"count\")"
   ]
  },
  {
   "cell_type": "code",
   "execution_count": 12,
   "id": "e409bf56",
   "metadata": {},
   "outputs": [
    {
     "data": {
      "text/plain": [
       "<AxesSubplot:ylabel='mental_health_consequence'>"
      ]
     },
     "execution_count": 12,
     "metadata": {},
     "output_type": "execute_result"
    },
    {
     "data": {
      "image/png": "[encoded data removed]",
      "text/plain": [
       "<Figure size 432x288 with 1 Axes>"
      ]
     },
     "metadata": {
      "needs_background": "light"
     },
     "output_type": "display_data"
    }
   ],
   "source": [
    "surveydata2=surveydata.groupby(['mental_health_consequence','AgeGroup']).size()\n",
    "surveydata2=surveydata2.unstack()\n",
    "surveydata2.plot(kind='barh')"
   ]
  },
  {
   "cell_type": "code",
   "execution_count": null,
   "id": "8c605531",
   "metadata": {},
   "outputs": [],
   "source": []
  },
  {
   "cell_type": "code",
   "execution_count": null,
   "id": "f60b533e",
   "metadata": {},
   "outputs": [],
   "source": []
  }
 ],
 "metadata": {
  "kernelspec": {
   "display_name": "Python 3 (ipykernel)",
   "language": "python",
   "name": "python3"
  },
  "language_info": {
   "codemirror_mode": {
    "name": "ipython",
    "version": 3
   },
   "file_extension": ".py",
   "mimetype": "text/x-python",
   "name": "python",
   "nbconvert_exporter": "python",
   "pygments_lexer": "ipython3",
   "version": "3.9.12"
  }
 },
 "nbformat": 4,
 "nbformat_minor": 5
}
